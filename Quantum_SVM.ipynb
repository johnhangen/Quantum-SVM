{
 "cells": [
  {
   "cell_type": "markdown",
   "id": "f9b7ac13",
   "metadata": {},
   "source": [
    "# Quantum SVM"
   ]
  },
  {
   "cell_type": "markdown",
   "id": "ca9e5a61",
   "metadata": {},
   "source": [
    "## Import data\n",
    "\n",
    "Lets start off by reading in our data"
   ]
  },
  {
   "cell_type": "code",
   "execution_count": 18,
   "id": "74e580fa",
   "metadata": {},
   "outputs": [],
   "source": [
    "import kagglehub\n",
    "import pandas as pd\n",
    "import numpy as np\n",
    "import matplotlib.pyplot as plt\n",
    "import seaborn as sns\n",
    "from sklearn.preprocessing import StandardScaler, LabelEncoder\n",
    "from sklearn.model_selection import train_test_split\n",
    "\n",
    "RANDOM_STATE = 42\n",
    "\n",
    "sns.set(style='whitegrid', context='notebook')\n",
    "pd.set_option('display.max_columns', None)\n",
    "pd.set_option('display.max_rows', None)"
   ]
  },
  {
   "cell_type": "code",
   "execution_count": 2,
   "id": "da944106",
   "metadata": {},
   "outputs": [
    {
     "data": {
      "text/html": [
       "<div>\n",
       "<style scoped>\n",
       "    .dataframe tbody tr th:only-of-type {\n",
       "        vertical-align: middle;\n",
       "    }\n",
       "\n",
       "    .dataframe tbody tr th {\n",
       "        vertical-align: top;\n",
       "    }\n",
       "\n",
       "    .dataframe thead th {\n",
       "        text-align: right;\n",
       "    }\n",
       "</style>\n",
       "<table border=\"1\" class=\"dataframe\">\n",
       "  <thead>\n",
       "    <tr style=\"text-align: right;\">\n",
       "      <th></th>\n",
       "      <th>gender</th>\n",
       "      <th>age</th>\n",
       "      <th>country</th>\n",
       "      <th>subscription_type</th>\n",
       "      <th>listening_time</th>\n",
       "      <th>songs_played_per_day</th>\n",
       "      <th>skip_rate</th>\n",
       "      <th>device_type</th>\n",
       "      <th>ads_listened_per_week</th>\n",
       "      <th>offline_listening</th>\n",
       "      <th>is_churned</th>\n",
       "    </tr>\n",
       "  </thead>\n",
       "  <tbody>\n",
       "    <tr>\n",
       "      <th>0</th>\n",
       "      <td>Female</td>\n",
       "      <td>54</td>\n",
       "      <td>CA</td>\n",
       "      <td>Free</td>\n",
       "      <td>26</td>\n",
       "      <td>23</td>\n",
       "      <td>0.20</td>\n",
       "      <td>Desktop</td>\n",
       "      <td>31</td>\n",
       "      <td>0</td>\n",
       "      <td>1</td>\n",
       "    </tr>\n",
       "    <tr>\n",
       "      <th>1</th>\n",
       "      <td>Other</td>\n",
       "      <td>33</td>\n",
       "      <td>DE</td>\n",
       "      <td>Family</td>\n",
       "      <td>141</td>\n",
       "      <td>62</td>\n",
       "      <td>0.34</td>\n",
       "      <td>Web</td>\n",
       "      <td>0</td>\n",
       "      <td>1</td>\n",
       "      <td>0</td>\n",
       "    </tr>\n",
       "    <tr>\n",
       "      <th>2</th>\n",
       "      <td>Male</td>\n",
       "      <td>38</td>\n",
       "      <td>AU</td>\n",
       "      <td>Premium</td>\n",
       "      <td>199</td>\n",
       "      <td>38</td>\n",
       "      <td>0.04</td>\n",
       "      <td>Mobile</td>\n",
       "      <td>0</td>\n",
       "      <td>1</td>\n",
       "      <td>1</td>\n",
       "    </tr>\n",
       "    <tr>\n",
       "      <th>3</th>\n",
       "      <td>Female</td>\n",
       "      <td>22</td>\n",
       "      <td>CA</td>\n",
       "      <td>Student</td>\n",
       "      <td>36</td>\n",
       "      <td>2</td>\n",
       "      <td>0.31</td>\n",
       "      <td>Mobile</td>\n",
       "      <td>0</td>\n",
       "      <td>1</td>\n",
       "      <td>0</td>\n",
       "    </tr>\n",
       "    <tr>\n",
       "      <th>4</th>\n",
       "      <td>Other</td>\n",
       "      <td>29</td>\n",
       "      <td>US</td>\n",
       "      <td>Family</td>\n",
       "      <td>250</td>\n",
       "      <td>57</td>\n",
       "      <td>0.36</td>\n",
       "      <td>Mobile</td>\n",
       "      <td>0</td>\n",
       "      <td>1</td>\n",
       "      <td>1</td>\n",
       "    </tr>\n",
       "  </tbody>\n",
       "</table>\n",
       "</div>"
      ],
      "text/plain": [
       "   gender  age country subscription_type  listening_time  \\\n",
       "0  Female   54      CA              Free              26   \n",
       "1   Other   33      DE            Family             141   \n",
       "2    Male   38      AU           Premium             199   \n",
       "3  Female   22      CA           Student              36   \n",
       "4   Other   29      US            Family             250   \n",
       "\n",
       "   songs_played_per_day  skip_rate device_type  ads_listened_per_week  \\\n",
       "0                    23       0.20     Desktop                     31   \n",
       "1                    62       0.34         Web                      0   \n",
       "2                    38       0.04      Mobile                      0   \n",
       "3                     2       0.31      Mobile                      0   \n",
       "4                    57       0.36      Mobile                      0   \n",
       "\n",
       "   offline_listening  is_churned  \n",
       "0                  0           1  \n",
       "1                  1           0  \n",
       "2                  1           1  \n",
       "3                  1           0  \n",
       "4                  1           1  "
      ]
     },
     "execution_count": 2,
     "metadata": {},
     "output_type": "execute_result"
    }
   ],
   "source": [
    "# Get dataset from Kaggle\n",
    "path = kagglehub.dataset_download(\"nabihazahid/spotify-dataset-for-churn-analysis\")\n",
    "\n",
    "# Load dataset into DataFrame\n",
    "df = pd.read_csv(path + \"\\\\spotify_churn_dataset.csv\", low_memory=False, index_col=0)\n",
    "df.reset_index(drop=True, inplace=True)\n",
    "df.head()"
   ]
  },
  {
   "cell_type": "markdown",
   "id": "a1009807",
   "metadata": {},
   "source": [
    "## EDA"
   ]
  },
  {
   "cell_type": "code",
   "execution_count": 4,
   "id": "3b94d048",
   "metadata": {},
   "outputs": [
    {
     "name": "stdout",
     "output_type": "stream",
     "text": [
      "<class 'pandas.core.frame.DataFrame'>\n",
      "RangeIndex: 8000 entries, 0 to 7999\n",
      "Data columns (total 8 columns):\n",
      " #   Column                 Non-Null Count  Dtype  \n",
      "---  ------                 --------------  -----  \n",
      " 0   gender                 8000 non-null   object \n",
      " 1   age                    8000 non-null   int64  \n",
      " 2   subscription_type      8000 non-null   object \n",
      " 3   listening_time         8000 non-null   int64  \n",
      " 4   songs_played_per_day   8000 non-null   int64  \n",
      " 5   skip_rate              8000 non-null   float64\n",
      " 6   ads_listened_per_week  8000 non-null   int64  \n",
      " 7   is_churned             8000 non-null   int64  \n",
      "dtypes: float64(1), int64(5), object(2)\n",
      "memory usage: 500.1+ KB\n"
     ]
    }
   ],
   "source": [
    "df.info()"
   ]
  },
  {
   "cell_type": "code",
   "execution_count": 5,
   "id": "75aac55e",
   "metadata": {},
   "outputs": [
    {
     "data": {
      "text/html": [
       "<div>\n",
       "<style scoped>\n",
       "    .dataframe tbody tr th:only-of-type {\n",
       "        vertical-align: middle;\n",
       "    }\n",
       "\n",
       "    .dataframe tbody tr th {\n",
       "        vertical-align: top;\n",
       "    }\n",
       "\n",
       "    .dataframe thead th {\n",
       "        text-align: right;\n",
       "    }\n",
       "</style>\n",
       "<table border=\"1\" class=\"dataframe\">\n",
       "  <thead>\n",
       "    <tr style=\"text-align: right;\">\n",
       "      <th></th>\n",
       "      <th>age</th>\n",
       "      <th>listening_time</th>\n",
       "      <th>songs_played_per_day</th>\n",
       "      <th>skip_rate</th>\n",
       "      <th>ads_listened_per_week</th>\n",
       "      <th>is_churned</th>\n",
       "    </tr>\n",
       "  </thead>\n",
       "  <tbody>\n",
       "    <tr>\n",
       "      <th>count</th>\n",
       "      <td>8000.000000</td>\n",
       "      <td>8000.000000</td>\n",
       "      <td>8000.000000</td>\n",
       "      <td>8000.000000</td>\n",
       "      <td>8000.000000</td>\n",
       "      <td>8000.000000</td>\n",
       "    </tr>\n",
       "    <tr>\n",
       "      <th>mean</th>\n",
       "      <td>37.662125</td>\n",
       "      <td>154.068250</td>\n",
       "      <td>50.127250</td>\n",
       "      <td>0.300127</td>\n",
       "      <td>6.943875</td>\n",
       "      <td>0.258875</td>\n",
       "    </tr>\n",
       "    <tr>\n",
       "      <th>std</th>\n",
       "      <td>12.740359</td>\n",
       "      <td>84.015596</td>\n",
       "      <td>28.449762</td>\n",
       "      <td>0.173594</td>\n",
       "      <td>13.617953</td>\n",
       "      <td>0.438044</td>\n",
       "    </tr>\n",
       "    <tr>\n",
       "      <th>min</th>\n",
       "      <td>16.000000</td>\n",
       "      <td>10.000000</td>\n",
       "      <td>1.000000</td>\n",
       "      <td>0.000000</td>\n",
       "      <td>0.000000</td>\n",
       "      <td>0.000000</td>\n",
       "    </tr>\n",
       "    <tr>\n",
       "      <th>25%</th>\n",
       "      <td>26.000000</td>\n",
       "      <td>81.000000</td>\n",
       "      <td>25.000000</td>\n",
       "      <td>0.150000</td>\n",
       "      <td>0.000000</td>\n",
       "      <td>0.000000</td>\n",
       "    </tr>\n",
       "    <tr>\n",
       "      <th>50%</th>\n",
       "      <td>38.000000</td>\n",
       "      <td>154.000000</td>\n",
       "      <td>50.000000</td>\n",
       "      <td>0.300000</td>\n",
       "      <td>0.000000</td>\n",
       "      <td>0.000000</td>\n",
       "    </tr>\n",
       "    <tr>\n",
       "      <th>75%</th>\n",
       "      <td>49.000000</td>\n",
       "      <td>227.000000</td>\n",
       "      <td>75.000000</td>\n",
       "      <td>0.450000</td>\n",
       "      <td>5.000000</td>\n",
       "      <td>1.000000</td>\n",
       "    </tr>\n",
       "    <tr>\n",
       "      <th>max</th>\n",
       "      <td>59.000000</td>\n",
       "      <td>299.000000</td>\n",
       "      <td>99.000000</td>\n",
       "      <td>0.600000</td>\n",
       "      <td>49.000000</td>\n",
       "      <td>1.000000</td>\n",
       "    </tr>\n",
       "  </tbody>\n",
       "</table>\n",
       "</div>"
      ],
      "text/plain": [
       "               age  listening_time  songs_played_per_day    skip_rate  \\\n",
       "count  8000.000000     8000.000000           8000.000000  8000.000000   \n",
       "mean     37.662125      154.068250             50.127250     0.300127   \n",
       "std      12.740359       84.015596             28.449762     0.173594   \n",
       "min      16.000000       10.000000              1.000000     0.000000   \n",
       "25%      26.000000       81.000000             25.000000     0.150000   \n",
       "50%      38.000000      154.000000             50.000000     0.300000   \n",
       "75%      49.000000      227.000000             75.000000     0.450000   \n",
       "max      59.000000      299.000000             99.000000     0.600000   \n",
       "\n",
       "       ads_listened_per_week   is_churned  \n",
       "count            8000.000000  8000.000000  \n",
       "mean                6.943875     0.258875  \n",
       "std                13.617953     0.438044  \n",
       "min                 0.000000     0.000000  \n",
       "25%                 0.000000     0.000000  \n",
       "50%                 0.000000     0.000000  \n",
       "75%                 5.000000     1.000000  \n",
       "max                49.000000     1.000000  "
      ]
     },
     "execution_count": 5,
     "metadata": {},
     "output_type": "execute_result"
    }
   ],
   "source": [
    "df.describe()"
   ]
  },
  {
   "cell_type": "markdown",
   "id": "678562dd",
   "metadata": {},
   "source": [
    "## Preproccessing"
   ]
  },
  {
   "cell_type": "code",
   "execution_count": 6,
   "id": "46067f4a",
   "metadata": {},
   "outputs": [
    {
     "data": {
      "text/plain": [
       "array([[ 1.22893058e+00, -5.19739178e-02, -1.37415163e+00, ...,\n",
       "        -1.09928703e-01,  6.90576263e-01, -5.09937786e-01],\n",
       "       [-1.22616859e+00,  6.54486735e-01,  1.34581861e+00, ...,\n",
       "         1.71286301e-01, -1.67140224e+00, -5.09937786e-01],\n",
       "       [ 1.38099329e-03, -1.15091271e+00, -1.37415163e+00, ...,\n",
       "        -2.50536205e-01, -2.31171444e-01, -5.09937786e-01],\n",
       "       ...,\n",
       "       [ 1.38099329e-03,  6.54486735e-01,  1.34581861e+00, ...,\n",
       "         3.47045679e-01,  5.68747140e-02, -5.09937786e-01],\n",
       "       [-1.22616859e+00, -1.62188648e+00, -1.37415163e+00, ...,\n",
       "         2.76741928e-01,  1.20905935e+00, -5.09937786e-01],\n",
       "       [ 1.22893058e+00,  1.12546050e+00,  1.34581861e+00, ...,\n",
       "        -1.58630747e+00, -1.44096531e+00, -5.09937786e-01]],\n",
       "      shape=(6400, 7))"
      ]
     },
     "execution_count": 6,
     "metadata": {},
     "output_type": "execute_result"
    }
   ],
   "source": [
    "# check if the variable is categorical or numerical\n",
    "categorical_cols = df.select_dtypes(include=['object']).columns\n",
    "numerical_cols = df.select_dtypes(include=['int64', 'float64']).columns\n",
    "\n",
    "# now we can encode categorical variables\n",
    "label_encoders = {}\n",
    "for col in categorical_cols:\n",
    "    le = LabelEncoder()\n",
    "    df[col] = le.fit_transform(df[col].astype(str))\n",
    "    label_encoders[col] = le\n",
    "\n",
    "# Feature-target split\n",
    "X = df.drop('is_churned', axis=1) \n",
    "y = df['is_churned']\n",
    "\n",
    "scaler = StandardScaler()\n",
    "X_scaled = scaler.fit_transform(X)\n",
    "\n",
    "# Split data\n",
    "X_train, X_test, y_train, y_test = train_test_split(X_scaled, y, test_size=0.2, random_state=42)\n",
    "\n",
    "X_train"
   ]
  },
  {
   "cell_type": "markdown",
   "id": "c614eb4c",
   "metadata": {},
   "source": [
    "## PCA\n",
    "\n",
    "QSVC is a computationally intensive algorithm, and as such it makes sense to reduce the number of dimensions to get better runtime. Here we will use PCA, which is a common dimensionality reduction technique."
   ]
  },
  {
   "cell_type": "code",
   "execution_count": 16,
   "id": "73ce0f18",
   "metadata": {},
   "outputs": [],
   "source": [
    "from sklearn.decomposition import PCA\n",
    "\n",
    "PCA_COMPONENTS = 7\n",
    "\n",
    "pca = PCA(n_components=PCA_COMPONENTS)\n",
    "X_train_pca = pca.fit_transform(X_train)\n",
    "X_test_pca = pca.transform(X_test)"
   ]
  },
  {
   "cell_type": "code",
   "execution_count": 17,
   "id": "7bb01ad8",
   "metadata": {},
   "outputs": [
    {
     "data": {
      "image/png": "[encoded data removed]",
      "text/plain": [
       "<Figure size 1200x400 with 2 Axes>"
      ]
     },
     "metadata": {},
     "output_type": "display_data"
    }
   ],
   "source": [
    "explained_var_ratio = pca.explained_variance_ratio_\n",
    "cumulative_var_ratio = np.cumsum(explained_var_ratio)\n",
    "\n",
    "plt.figure(figsize=(12, 4))\n",
    "\n",
    "plt.subplot(1, 2, 1)\n",
    "plt.bar(range(1, len(explained_var_ratio) + 1), explained_var_ratio)\n",
    "plt.xlabel('Principal Component')\n",
    "plt.ylabel('Explained Variance Ratio')\n",
    "plt.title('Individual Explained Variance')\n",
    "\n",
    "plt.subplot(1, 2, 2)\n",
    "plt.plot(range(1, len(cumulative_var_ratio) + 1), cumulative_var_ratio, 'bo-')\n",
    "plt.xlabel('Number of Components')\n",
    "plt.ylabel('Cumulative Explained Variance')\n",
    "plt.title('Cumulative Explained Variance')\n",
    "plt.axhline(y=0.95, color='r', linestyle='--', alpha=0.7, label='95% threshold')\n",
    "plt.legend()\n",
    "\n",
    "plt.tight_layout()\n",
    "plt.show()"
   ]
  },
  {
   "cell_type": "markdown",
   "id": "b42d6229",
   "metadata": {},
   "source": [
    "## SVC\n",
    "\n",
    "We will first train a classical SVC model to get a baseline accuracy score. Then we will run a grid search to ensure we have the best hyperparameters."
   ]
  },
  {
   "cell_type": "code",
   "execution_count": 41,
   "id": "54e624f1",
   "metadata": {},
   "outputs": [
    {
     "name": "stdout",
     "output_type": "stream",
     "text": [
      "Training time: 1.23 seconds\n",
      "Test accuracy: 0.5181\n",
      "Cross-validation accuracy: 0.5100 (+/- 0.0471)\n"
     ]
    }
   ],
   "source": [
    "from sklearn.svm import SVC\n",
    "from sklearn.model_selection import cross_val_score\n",
    "import time\n",
    "\n",
    "class_weight = {0: df.shape[0] / (2 * (df.shape[0] - df['is_churned'].sum())), 1: df.shape[0] / (2 * df['is_churned'].sum())}\n",
    "\n",
    "baseline_svc = SVC(class_weight=class_weight, random_state=RANDOM_STATE)\n",
    "\n",
    "start_time = time.time()\n",
    "baseline_svc.fit(X_train_pca, y_train)\n",
    "training_time = time.time() - start_time\n",
    "\n",
    "# Predictions\n",
    "y_pred = baseline_svc.predict(X_test_pca)\n",
    "y_pred_proba = baseline_svc.decision_function(X_test_pca)\n",
    "\n",
    "# Evaluation\n",
    "print(f\"Training time: {training_time:.2f} seconds\")\n",
    "print(f\"Test accuracy: {baseline_svc.score(X_test_pca, y_test):.4f}\")\n",
    "\n",
    "# Cross-validation\n",
    "cv_scores = cross_val_score(baseline_svc, X_train_pca, y_train, cv=5)\n",
    "print(f\"Cross-validation accuracy: {cv_scores.mean():.4f} (+/- {cv_scores.std() * 2:.4f})\")"
   ]
  },
  {
   "cell_type": "markdown",
   "id": "d52e41b5",
   "metadata": {},
   "source": [
    "### Grid Search\n",
    "\n",
    "We will use a grid search to find the best hyperparameters for our SVC model."
   ]
  },
  {
   "cell_type": "code",
   "execution_count": 42,
   "id": "512d2835",
   "metadata": {},
   "outputs": [
    {
     "name": "stdout",
     "output_type": "stream",
     "text": [
      "Fitting 3 folds for each of 8 candidates, totalling 24 fits\n",
      "Hyperparameter tuning time: 4.40 seconds\n",
      "Best parameters: {'C': 1, 'gamma': 'scale', 'kernel': 'rbf'}\n",
      "Best cross-validation score: 0.5064\n"
     ]
    }
   ],
   "source": [
    "from sklearn.model_selection import GridSearchCV\n",
    "\n",
    "param_grid = {\n",
    "    'C': [0.1, 1],\n",
    "    'kernel': ['rbf', 'linear'],\n",
    "    'gamma': ['scale', 0.01]\n",
    "}\n",
    "cv_folds = 3\n",
    "\n",
    "svc = SVC(class_weight=class_weight, random_state=RANDOM_STATE)\n",
    "        \n",
    "# Set up a grid search\n",
    "grid_search = GridSearchCV(\n",
    "    svc, param_grid, cv=cv_folds, \n",
    "    scoring='accuracy', n_jobs=-1, verbose=1\n",
    ")\n",
    "\n",
    "start_time = time.time()\n",
    "grid_search.fit(X_train_pca, y_train)\n",
    "tuning_time = time.time() - start_time\n",
    "\n",
    "best_params = grid_search.best_params_\n",
    "model = grid_search.best_estimator_\n",
    "\n",
    "# print results\n",
    "print(f\"Hyperparameter tuning time: {tuning_time:.2f} seconds\")\n",
    "print(f\"Best parameters: {best_params}\")\n",
    "print(f\"Best cross-validation score: {grid_search.best_score_:.4f}\")"
   ]
  },
  {
   "cell_type": "markdown",
   "id": "87ecb126",
   "metadata": {},
   "source": [
    "### Final SVC Model"
   ]
  },
  {
   "cell_type": "code",
   "execution_count": 43,
   "id": "b7121763",
   "metadata": {},
   "outputs": [
    {
     "name": "stdout",
     "output_type": "stream",
     "text": [
      "Classification Report:\n",
      "              precision    recall  f1-score   support\n",
      "\n",
      "           0       0.76      0.53      0.62      1200\n",
      "           1       0.26      0.49      0.34       400\n",
      "\n",
      "    accuracy                           0.52      1600\n",
      "   macro avg       0.51      0.51      0.48      1600\n",
      "weighted avg       0.63      0.52      0.55      1600\n",
      "\n"
     ]
    },
    {
     "data": {
      "image/png": "[encoded data removed]",
      "text/plain": [
       "<Figure size 1200x400 with 3 Axes>"
      ]
     },
     "metadata": {},
     "output_type": "display_data"
    }
   ],
   "source": [
    "from sklearn.metrics import classification_report, confusion_matrix, roc_curve, roc_auc_score\n",
    "\n",
    "model = SVC(**best_params,\n",
    "            class_weight=class_weight\n",
    "            ,random_state=RANDOM_STATE)\n",
    "\n",
    "model.fit(X_train_pca, y_train)\n",
    "\n",
    "y_pred = model.predict(X_test_pca)\n",
    "y_pred_proba = model.decision_function(X_test_pca)\n",
    "\n",
    "# Classification metrics\n",
    "print(\"Classification Report:\")\n",
    "print(classification_report(y_test, y_pred))\n",
    "\n",
    "# Confusion Matrix\n",
    "cm = confusion_matrix(y_test, y_pred)\n",
    "plt.figure(figsize=(12, 4))\n",
    "\n",
    "plt.subplot(1, 2, 1)\n",
    "sns.heatmap(cm, annot=True, fmt='d', cmap='Blues')\n",
    "plt.title('Confusion Matrix')\n",
    "plt.ylabel('Actual')\n",
    "plt.xlabel('Predicted')\n",
    "\n",
    "# ROC Curve\n",
    "plt.subplot(1, 2, 2)\n",
    "fpr, tpr, _ = roc_curve(y_test, y_pred_proba)\n",
    "auc_score = roc_auc_score(y_test, y_pred_proba)\n",
    "\n",
    "plt.plot(fpr, tpr, label=f'ROC Curve (AUC = {auc_score:.3f})')\n",
    "plt.plot([0, 1], [0, 1], 'k--', alpha=0.5)\n",
    "plt.xlabel('False Positive Rate')\n",
    "plt.ylabel('True Positive Rate')\n",
    "plt.title('ROC Curve')\n",
    "plt.legend()\n",
    "\n",
    "plt.tight_layout()\n",
    "plt.show()"
   ]
  },
  {
   "cell_type": "markdown",
   "id": "5c1fa047",
   "metadata": {},
   "source": [
    "## QSVC"
   ]
  },
  {
   "cell_type": "code",
   "execution_count": 44,
   "id": "5310ce4d",
   "metadata": {},
   "outputs": [],
   "source": [
    "from qiskit.circuit.library import ZZFeatureMap, PauliFeatureMap\n",
    "from qiskit.primitives import StatevectorSampler as Sampler\n",
    "from qiskit_machine_learning.state_fidelities import ComputeUncompute\n",
    "from qiskit_machine_learning.kernels import FidelityQuantumKernel\n",
    "\n",
    "feature_map = PauliFeatureMap(\n",
    "                            feature_dimension=PCA_COMPONENTS, \n",
    "                            reps=1, \n",
    "                            paulis=['Z', 'ZZ'])\n",
    "\n",
    "sampler = Sampler()\n",
    "\n",
    "fidelity = ComputeUncompute(sampler=sampler)\n",
    "\n",
    "adhoc_kernel = FidelityQuantumKernel(fidelity=fidelity, feature_map=feature_map)"
   ]
  },
  {
   "cell_type": "code",
   "execution_count": null,
   "id": "4c5abcb9",
   "metadata": {},
   "outputs": [],
   "source": [
    "from qiskit_machine_learning.algorithms import QSVC\n",
    "import time\n",
    "\n",
    "qsvc = QSVC(quantum_kernel=adhoc_kernel)\n",
    "\n",
    "start_time = time.time()\n",
    "qsvc.fit(X_train_pca[:100], y_train[:100])\n",
    "end_time = time.time()\n",
    "\n",
    "qsvc_score = qsvc.score(X_test_pca, y_test)\n",
    "\n",
    "print(f\"Training took {end_time - start_time:.2f} seconds\")\n",
    "print(f\"QSVC classification test score: {qsvc_score}\")"
   ]
  },
  {
   "cell_type": "code",
   "execution_count": null,
   "id": "0eba23fa",
   "metadata": {},
   "outputs": [],
   "source": []
  }
 ],
 "metadata": {
  "kernelspec": {
   "display_name": "quantum-svm",
   "language": "python",
   "name": "python3"
  },
  "language_info": {
   "codemirror_mode": {
    "name": "ipython",
    "version": 3
   },
   "file_extension": ".py",
   "mimetype": "text/x-python",
   "name": "python",
   "nbconvert_exporter": "python",
   "pygments_lexer": "ipython3",
   "version": "3.11.10"
  }
 },
 "nbformat": 4,
 "nbformat_minor": 5
}
